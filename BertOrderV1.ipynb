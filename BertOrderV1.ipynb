{
 "cells": [
  {
   "cell_type": "code",
   "execution_count": 1,
   "metadata": {},
   "outputs": [
    {
     "name": "stderr",
     "output_type": "stream",
     "text": [
      "Using TensorFlow backend.\n"
     ]
    }
   ],
   "source": [
    "import os\n",
    "import pandas as pd\n",
    "import tensorflow as tf\n",
    "import tensorflow_hub as hub\n",
    "import bert\n",
    "import numpy as np \n",
    "import tokenization\n",
    "from tensorflow.keras.models import Model\n",
    "from keras_bert import Tokenizer, load_vocabulary\n",
    "from sklearn.model_selection import train_test_split\n"
   ]
  },
  {
   "cell_type": "code",
   "execution_count": 2,
   "metadata": {},
   "outputs": [],
   "source": [
    "\n",
    "bert_layer=hub.KerasLayer(\"https://tfhub.dev/tensorflow/bert_en_uncased_L-12_H-768_A-12/1\",trainable=True)\n"
   ]
  },
  {
   "cell_type": "code",
   "execution_count": 3,
   "metadata": {},
   "outputs": [],
   "source": [
    "pretrained_path = 'uncased_L-12_H-768_A-12'\n",
    "config_path = os.path.join(pretrained_path, 'bert_config.json')\n",
    "checkpoint_path = os.path.join(pretrained_path, 'bert_model.ckpt')\n",
    "vocab_path = os.path.join(pretrained_path, 'vocab.txt')\n",
    "SEQ_LEN = 128\n",
    "BATCH_SIZE = 128\n",
    "EPOCHS = 5\n",
    "LR = 1e-4\n",
    "token_dict = load_vocabulary(vocab_path)\n",
    "tokenizer = Tokenizer(token_dict)\n",
    "\n",
    "\n",
    "\n",
    "MAX_SEQ_LEN=128\n",
    "input_word_ids = tf.keras.layers.Input(shape=(MAX_SEQ_LEN,), dtype=tf.int32,\n",
    "                                       name=\"input_word_ids\")\n",
    "input_mask = tf.keras.layers.Input(shape=(MAX_SEQ_LEN,), dtype=tf.int32,\n",
    "                                   name=\"input_mask\")\n",
    "segment_ids = tf.keras.layers.Input(shape=(MAX_SEQ_LEN,), dtype=tf.int32,\n",
    "                                    name=\"segment_ids\")\n",
    "\n",
    "pooled_output, sequence_output = bert_layer([input_word_ids, input_mask, segment_ids])\n",
    "x = tf.keras.layers.GlobalAveragePooling1D()(sequence_output)\n",
    "x = tf.keras.layers.Dropout(0.2)(x)\n",
    "out = tf.keras.layers.Dense(4, activation=\"sigmoid\", name=\"dense_output\")(x)\n",
    "\n",
    "model = tf.keras.models.Model(\n",
    "      inputs=[input_word_ids, input_mask, segment_ids], outputs=out)\n",
    "\n",
    "\n",
    "model.compile(loss='binary_crossentropy',\n",
    "                  optimizer='adam',\n",
    "                  metrics=['accuracy'])"
   ]
  },
  {
   "cell_type": "code",
   "execution_count": 4,
   "metadata": {},
   "outputs": [],
   "source": [
    "from tqdm import tqdm\n",
    "import bert_tokenizer as tokenizerBT\n",
    "FullTokenizer=bert.bert_tokenization.FullTokenizer(vocab_path, True)\n",
    "tokenizer = FullTokenizer "
   ]
  },
  {
   "cell_type": "code",
   "execution_count": 5,
   "metadata": {},
   "outputs": [],
   "source": [
    "def create_single_input(sentence,MAX_LEN):\n",
    "  \n",
    "  stokens = tokenizer.tokenize(sentence)\n",
    "  \n",
    "  stokens = stokens[:MAX_LEN]\n",
    "  \n",
    "  stokens = [\"[CLS]\"] + stokens + [\"[SEP]\"]\n",
    " \n",
    "  ids = get_ids(stokens, tokenizer, MAX_SEQ_LEN)\n",
    "  masks = get_masks(stokens, MAX_SEQ_LEN)\n",
    "  segments = get_segments(stokens, MAX_SEQ_LEN)\n",
    " \n",
    "  return ids,masks,segments\n",
    "\n",
    "def create_input_array(sentences):\n",
    "\n",
    "  input_ids, input_masks, input_segments = [], [], []\n",
    "\n",
    "  for sentence in tqdm(sentences,position=0, leave=True):\n",
    "  \n",
    "    ids,masks,segments=create_single_input(sentence,MAX_SEQ_LEN-2)\n",
    "\n",
    "    input_ids.append(ids)\n",
    "    input_masks.append(masks)\n",
    "    input_segments.append(segments)\n",
    "\n",
    "  return [np.asarray(input_ids, dtype=np.int32), \n",
    "            np.asarray(input_masks, dtype=np.int32), \n",
    "            np.asarray(input_segments, dtype=np.int32)]\n",
    "\n",
    "def get_masks(tokens, max_seq_length):\n",
    "    return [1]*len(tokens) + [0] * (max_seq_length - len(tokens))\n",
    "\n",
    "def get_segments(tokens, max_seq_length):\n",
    "    \"\"\"Segments: 0 for the first sequence, 1 for the second\"\"\"\n",
    "    segments = []\n",
    "    current_segment_id = 0\n",
    "    for token in tokens:\n",
    "        segments.append(current_segment_id)\n",
    "        if token == \"[SEP]\":\n",
    "            current_segment_id = 1\n",
    "    return segments + [0] * (max_seq_length - len(tokens))\n",
    "def get_ids(tokens, tokenizer, max_seq_length):\n",
    "    \"\"\"Token ids from Tokenizer vocab\"\"\"\n",
    "    token_ids = tokenizer.convert_tokens_to_ids(tokens,)\n",
    "    input_ids = token_ids + [0] * (max_seq_length-len(token_ids))\n",
    "    return input_ids"
   ]
  },
  {
   "cell_type": "code",
   "execution_count": 6,
   "metadata": {},
   "outputs": [
    {
     "data": {
      "text/html": [
       "<div>\n",
       "<style scoped>\n",
       "    .dataframe tbody tr th:only-of-type {\n",
       "        vertical-align: middle;\n",
       "    }\n",
       "\n",
       "    .dataframe tbody tr th {\n",
       "        vertical-align: top;\n",
       "    }\n",
       "\n",
       "    .dataframe thead th {\n",
       "        text-align: right;\n",
       "    }\n",
       "</style>\n",
       "<table border=\"1\" class=\"dataframe\">\n",
       "  <thead>\n",
       "    <tr style=\"text-align: right;\">\n",
       "      <th></th>\n",
       "      <th>customerMesssage</th>\n",
       "      <th>orderSummary</th>\n",
       "      <th>Salads</th>\n",
       "      <th>Drinks</th>\n",
       "      <th>Pizzas</th>\n",
       "      <th>Desserts</th>\n",
       "    </tr>\n",
       "  </thead>\n",
       "  <tbody>\n",
       "    <tr>\n",
       "      <th>0</th>\n",
       "      <td>1 Large Hand Tossed Round Pizza with Pepperon...</td>\n",
       "      <td>Your Order for Pickup at: \\nJet's MI 012 - 193...</td>\n",
       "      <td>1</td>\n",
       "      <td>0</td>\n",
       "      <td>1</td>\n",
       "      <td>0</td>\n",
       "    </tr>\n",
       "    <tr>\n",
       "      <th>1</th>\n",
       "      <td>I would like to order 1 large Hawaiian with tu...</td>\n",
       "      <td>Your Order for Delivery To: \\n7560 Weddel St T...</td>\n",
       "      <td>1</td>\n",
       "      <td>0</td>\n",
       "      <td>1</td>\n",
       "      <td>0</td>\n",
       "    </tr>\n",
       "    <tr>\n",
       "      <th>2</th>\n",
       "      <td>Hi Jets! I want... \\n1 - 8 corner pizza With h...</td>\n",
       "      <td>Your Order for Pickup at: \\nJet's MI 097 - 444...</td>\n",
       "      <td>0</td>\n",
       "      <td>1</td>\n",
       "      <td>0</td>\n",
       "      <td>0</td>\n",
       "    </tr>\n",
       "    <tr>\n",
       "      <th>3</th>\n",
       "      <td>Hi Jets I want... DEEP DISH DUO Detroit-Style ...</td>\n",
       "      <td>Your Order for Pickup at: \\nJet's OH 008 - 888...</td>\n",
       "      <td>0</td>\n",
       "      <td>0</td>\n",
       "      <td>1</td>\n",
       "      <td>0</td>\n",
       "    </tr>\n",
       "    <tr>\n",
       "      <th>4</th>\n",
       "      <td>Hi Jets! I want...delivery. 1large thin crust ...</td>\n",
       "      <td>Your Order for Delivery To: \\n1304 N Rumbaugh ...</td>\n",
       "      <td>0</td>\n",
       "      <td>0</td>\n",
       "      <td>1</td>\n",
       "      <td>0</td>\n",
       "    </tr>\n",
       "  </tbody>\n",
       "</table>\n",
       "</div>"
      ],
      "text/plain": [
       "                                    customerMesssage  \\\n",
       "0   1 Large Hand Tossed Round Pizza with Pepperon...   \n",
       "1  I would like to order 1 large Hawaiian with tu...   \n",
       "2  Hi Jets! I want... \\n1 - 8 corner pizza With h...   \n",
       "3  Hi Jets I want... DEEP DISH DUO Detroit-Style ...   \n",
       "4  Hi Jets! I want...delivery. 1large thin crust ...   \n",
       "\n",
       "                                        orderSummary  Salads  Drinks  Pizzas  \\\n",
       "0  Your Order for Pickup at: \\nJet's MI 012 - 193...       1       0       1   \n",
       "1  Your Order for Delivery To: \\n7560 Weddel St T...       1       0       1   \n",
       "2  Your Order for Pickup at: \\nJet's MI 097 - 444...       0       1       0   \n",
       "3  Your Order for Pickup at: \\nJet's OH 008 - 888...       0       0       1   \n",
       "4  Your Order for Delivery To: \\n1304 N Rumbaugh ...       0       0       1   \n",
       "\n",
       "   Desserts  \n",
       "0         0  \n",
       "1         0  \n",
       "2         0  \n",
       "3         0  \n",
       "4         0  "
      ]
     },
     "execution_count": 6,
     "metadata": {},
     "output_type": "execute_result"
    }
   ],
   "source": [
    "datasetV1 = pd.read_csv('datasetV1.csv')\n",
    "datasetV1.head()"
   ]
  },
  {
   "cell_type": "code",
   "execution_count": 7,
   "metadata": {},
   "outputs": [
    {
     "name": "stderr",
     "output_type": "stream",
     "text": [
      "100%|████████████████████████████████████████████████████████████████████████████| 1593/1593 [00:00<00:00, 2641.53it/s]\n"
     ]
    }
   ],
   "source": [
    "train_examples,test_examples = train_test_split(datasetV1, test_size=0.2)\n",
    "\n",
    "train_sentences = train_examples[\"customerMesssage\"].fillna(\"CVxTz\").values\n",
    "list_classes = [ \"Salads\", \"Drinks\", \"Pizzas\", \"Desserts\"]\n",
    "\n",
    "\n",
    "inputs=create_input_array(train_sentences)\n",
    "train_y = train_examples[list_classes].values"
   ]
  },
  {
   "cell_type": "code",
   "execution_count": 8,
   "metadata": {},
   "outputs": [
    {
     "name": "stdout",
     "output_type": "stream",
     "text": [
      "Epoch 1/5\n",
      "26/26 [==============================] - 1048s 40s/step - loss: 0.5739 - accuracy: 0.6107 - val_loss: 0.3555 - val_accuracy: 0.6614\n",
      "Epoch 2/5\n",
      "26/26 [==============================] - 777s 30s/step - loss: 0.3581 - accuracy: 0.6554 - val_loss: 0.3259 - val_accuracy: 0.6614\n",
      "Epoch 3/5\n",
      "26/26 [==============================] - 772s 30s/step - loss: 0.3524 - accuracy: 0.6554 - val_loss: 0.3351 - val_accuracy: 0.6614\n",
      "Epoch 4/5\n",
      "26/26 [==============================] - 775s 30s/step - loss: 0.3540 - accuracy: 0.6554 - val_loss: 0.3276 - val_accuracy: 0.6614\n",
      "Epoch 5/5\n",
      "26/26 [==============================] - 840s 32s/step - loss: 0.3541 - accuracy: 0.6554 - val_loss: 0.3283 - val_accuracy: 0.6614\n"
     ]
    },
    {
     "data": {
      "text/plain": [
       "<tensorflow.python.keras.callbacks.History at 0x271fe8ef040>"
      ]
     },
     "execution_count": 8,
     "metadata": {},
     "output_type": "execute_result"
    }
   ],
   "source": [
    "#model.fit(inputs,train_y,epochs=1,batch_size=32,validation_split=0.2,shuffle=True)\n",
    "model.fit(inputs,train_y,epochs=5,batch_size=50,validation_split=0.2,shuffle=True)"
   ]
  },
  {
   "cell_type": "code",
   "execution_count": null,
   "metadata": {},
   "outputs": [],
   "source": []
  }
 ],
 "metadata": {
  "kernelspec": {
   "display_name": "Python 3",
   "language": "python",
   "name": "python3"
  },
  "language_info": {
   "codemirror_mode": {
    "name": "ipython",
    "version": 3
   },
   "file_extension": ".py",
   "mimetype": "text/x-python",
   "name": "python",
   "nbconvert_exporter": "python",
   "pygments_lexer": "ipython3",
   "version": "3.8.2"
  }
 },
 "nbformat": 4,
 "nbformat_minor": 4
}
